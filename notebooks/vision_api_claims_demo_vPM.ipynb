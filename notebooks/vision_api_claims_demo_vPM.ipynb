{
 "cells": [
  {
   "cell_type": "markdown",
   "metadata": {},
   "source": [
    "## Cloud Vision API - Claims Processing PoC\n",
    "\n",
    "\n",
    "#### Notes:\n",
    "- Current accepted image types include: .jpg\n",
    "- [Files hosted in the bucket currently made public; to add permissioning in future versions](https://cloud.google.com/storage/docs/access-control/making-data-public)\n",
    "- [More info on bucket/object relationship](https://googlecloudplatform.github.io/google-cloud-python/latest/storage/buckets.html)"
   ]
  },
  {
   "cell_type": "code",
   "execution_count": 1,
   "metadata": {},
   "outputs": [
    {
     "name": "stdout",
     "output_type": "stream",
     "text": [
      "Requirement already up-to-date: google-api-python-client in /usr/local/envs/py3env/lib/python3.5/site-packages (1.7.4)\n",
      "Requirement already satisfied, skipping upgrade: six<2dev,>=1.6.1 in /usr/local/envs/py3env/lib/python3.5/site-packages (from google-api-python-client) (1.10.0)\n",
      "Requirement already satisfied, skipping upgrade: uritemplate<4dev,>=3.0.0 in /usr/local/envs/py3env/lib/python3.5/site-packages (from google-api-python-client) (3.0.0)\n",
      "Requirement already satisfied, skipping upgrade: google-auth>=1.4.1 in /usr/local/envs/py3env/lib/python3.5/site-packages (from google-api-python-client) (1.5.1)\n",
      "Requirement already satisfied, skipping upgrade: google-auth-httplib2>=0.0.3 in /usr/local/envs/py3env/lib/python3.5/site-packages (from google-api-python-client) (0.0.3)\n",
      "Requirement already satisfied, skipping upgrade: httplib2<1dev,>=0.9.2 in /usr/local/envs/py3env/lib/python3.5/site-packages (from google-api-python-client) (0.10.3)\n",
      "Requirement already satisfied, skipping upgrade: rsa>=3.1.4 in /usr/local/envs/py3env/lib/python3.5/site-packages (from google-auth>=1.4.1->google-api-python-client) (3.4.2)\n",
      "Requirement already satisfied, skipping upgrade: cachetools>=2.0.0 in /usr/local/envs/py3env/lib/python3.5/site-packages (from google-auth>=1.4.1->google-api-python-client) (2.1.0)\n",
      "Requirement already satisfied, skipping upgrade: pyasn1-modules>=0.2.1 in /usr/local/envs/py3env/lib/python3.5/site-packages (from google-auth>=1.4.1->google-api-python-client) (0.2.2)\n",
      "Requirement already satisfied, skipping upgrade: pyasn1>=0.1.3 in /usr/local/envs/py3env/lib/python3.5/site-packages (from rsa>=3.1.4->google-auth>=1.4.1->google-api-python-client) (0.4.4)\n"
     ]
    }
   ],
   "source": [
    "#! python3\n",
    "#! Philip Mohun © 2018\n",
    "# This notebook is used to generate .csv files to test Google's Vision API for Claims Processing\n",
    "# https://console.cloud.google.com/storage/browser/anthem-handwriting-recognition-claims-photos\n",
    "\n",
    "!pip install --upgrade google-api-python-client\n",
    "APIKEY = '<INSERT API KEY>'"
   ]
  },
  {
   "cell_type": "code",
   "execution_count": 2,
   "metadata": {},
   "outputs": [],
   "source": [
    "# import data from storage\n",
    "import google.datalab.storage as storage\n",
    "import pandas as pd\n",
    "import os\n",
    "from google.datalab import Context\n",
    "\n",
    "project = Context.default().project_id\n",
    "bucket = storage.Bucket('anthem-handwriting-recognition-claims-photos/forms/img')\n",
    "\n",
    "\n",
    "## TODO Iterate through bucket to get all objects (blobs)\n",
    "def list_blobs(bucket_name):\n",
    "    \"\"\"Lists all the blobs in the bucket.\"\"\"\n",
    "    bucket = storage.Bucket(bucket_name)\n",
    "    blobs = bucket.list_blobs()\n",
    "\n",
    "    for blob in blobs:\n",
    "        print(blob.name)\n",
    "        image =blob.name\n",
    "        images.append(image)"
   ]
  },
  {
   "cell_type": "code",
   "execution_count": 3,
   "metadata": {},
   "outputs": [],
   "source": [
    "# gs://anthem-handwriting-recognition-claims-photos/forms/img\n",
    "images = ['ca_medical_claim_form.jpg',\n",
    "          'ca_medical_claim_form_typed.jpg',\n",
    "          'ca_medical_claim_form_handwritten.jpg',\n",
    "          'ny_downstate_medical_claim_form.jpg',\n",
    "          'ny_downstate_medical_claim_form_handwritten.jpg',\n",
    "          'ny_downstate_medical_claim_form_typed.jpg',\n",
    "          'ny_prescription_drug_claim_form.jpg',\n",
    "          'ny_prescription_drug_claim_form_handwritten.jpg',\n",
    "          'ny_prescription_drug_claim_form_typed.jpg']\n",
    "\n",
    "#images = ['coverage_handwritten.jpg',\n",
    "#         'coverage_typed.jpg',\n",
    "#         'last_name_handwritten.jpg',\n",
    "#         'last_name_typed.jpg',\n",
    "#         'multiple_checks_handwritten.jpg',\n",
    "#         'multiple_checks_typed.jpg',\n",
    "#         'subscriber_handwritten.jpg',\n",
    "#         'subscriber_typed.jpg',\n",
    "#         'group_number_handwritten.jpg',\n",
    "#         'group_number_typed.jpg',\n",
    "#         'health_insurance_handwritten.jpg',\n",
    "#         'health_insurance_typed.jpg']\n",
    "\n",
    "uri_list = []\n",
    "for image in images:\n",
    "    image = bucket.object(image)\n",
    "    uri_list.append(image.uri)"
   ]
  },
  {
   "cell_type": "code",
   "execution_count": 4,
   "metadata": {},
   "outputs": [],
   "source": [
    "# running vision API\n",
    "def call_api(uri,APIKEY):\n",
    "  import base64\n",
    "  from googleapiclient.discovery import build\n",
    "  vservice = build('vision', 'v1', developerKey=APIKEY)\n",
    "  request = vservice.images().annotate(body={\n",
    "          'requests': [{\n",
    "                  'image': {\n",
    "                      'source': {\n",
    "                          'gcs_image_uri': uri\n",
    "                      }\n",
    "                  },\n",
    "                  'features': [{\n",
    "                      'type': 'DOCUMENT_TEXT_DETECTION',\n",
    "                      'maxResults': 3,\n",
    "                  }],\n",
    "# comment this out if reading typed version\n",
    "#                  'imageContext': {\n",
    "#                      'languageHints': [\"en-t-i0-handwrit\"]\n",
    "#                  },\n",
    "              }],\n",
    "          })\n",
    "  responses = request.execute(num_retries=3)\n",
    "  return responses"
   ]
  },
  {
   "cell_type": "code",
   "execution_count": 5,
   "metadata": {
    "scrolled": true
   },
   "outputs": [],
   "source": [
    "# Parse json and return a list with the text from each block\n",
    "\n",
    "def json_to_txt(responses):\n",
    "  i = 0 # blocks\n",
    "  j = 0 # paragraphs\n",
    "  k = 0 # words\n",
    "  l = 0 # letters\n",
    "  text = []\n",
    "  letter_count = len(responses['responses'][0]['fullTextAnnotation']['pages'][0]['blocks'][i]['paragraphs'][j]['words'][k]['symbols'])\n",
    "  block_count = len(responses['responses'][0]['fullTextAnnotation']['pages'][0]['blocks'])\n",
    "  for i in range(0,block_count):\n",
    "    paragraph_count = len(responses['responses'][0]['fullTextAnnotation']['pages'][0]['blocks'][i]['paragraphs'])\n",
    "    for j in range(0,paragraph_count):\n",
    "      word_count = len(responses['responses'][0]['fullTextAnnotation']['pages'][0]['blocks'][i]['paragraphs'][j]['words'])\n",
    "      words = \"\"\n",
    "      for k in range(0,word_count):\n",
    "        letter_count = len(responses['responses'][0]['fullTextAnnotation']['pages'][0]['blocks'][i]['paragraphs'][j]['words'][k]['symbols'])\n",
    "        for l in range(0,letter_count):\n",
    "          letter = responses['responses'][0]['fullTextAnnotation']['pages'][0]['blocks'][i]['paragraphs'][j]['words'][k]['symbols'][l]['text']\n",
    "          if l == letter_count - 1:\n",
    "            words += letter + \" \" # add a space if it's the end of a word\n",
    "          else: \n",
    "            words += letter\n",
    "          l += 1\n",
    "        k += 1\n",
    "      j += 1\n",
    "    i += 1\n",
    "    text.append(words) # each row is a block\n",
    "  return text"
   ]
  },
  {
   "cell_type": "code",
   "execution_count": 20,
   "metadata": {},
   "outputs": [],
   "source": [
    "# create folder to save csv\n",
    "\n",
    "cwd = '/content/datalab/'\n",
    "# create results folder\n",
    "if os.path.exists(cwd + '/results') == False: \n",
    "    cwd = os.makedirs(cwd + '/results'); \n",
    "    os.chdir(cwd)\n",
    "else:\n",
    "  cwd += 'results'\n",
    "  os.chdir(cwd)"
   ]
  },
  {
   "cell_type": "code",
   "execution_count": 22,
   "metadata": {},
   "outputs": [
    {
     "name": "stdout",
     "output_type": "stream",
     "text": [
      "Transcribing g to .csv\n",
      "Done-- get well soon!\n",
      "Transcribing g to .csv\n",
      "Done-- get well soon!\n",
      "Transcribing g to .csv\n",
      "Done-- get well soon!\n",
      "Transcribing g to .csv\n",
      "Done-- get well soon!\n",
      "Transcribing g to .csv\n",
      "Done-- get well soon!\n",
      "Transcribing g to .csv\n",
      "Done-- get well soon!\n",
      "Transcribing g to .csv\n",
      "Done-- get well soon!\n",
      "Transcribing g to .csv\n",
      "Done-- get well soon!\n",
      "Transcribing g to .csv\n",
      "Done-- get well soon!\n"
     ]
    }
   ],
   "source": [
    "# run notebook\n",
    "\n",
    "for uri in uri_list:\n",
    "    responses = call_api(uri,APIKEY)\n",
    "    text = json_to_txt(responses)\n",
    "    output = pd.Series(text)\n",
    "    outname = uri.split('/')\n",
    "    output.to_csv('{}.csv'.format((outname[len(outname)-1].replace('.jpg',''))))\n",
    "    print('Transcribing {} to .csv'.format(uri[len(uri)-1])) \n",
    "    print('Done-- get well soon!')"
   ]
  }
 ],
 "metadata": {
  "kernelspec": {
   "display_name": "Python 3",
   "language": "python",
   "name": "python3"
  },
  "language_info": {
   "codemirror_mode": {
    "name": "ipython",
    "version": 3
   },
   "file_extension": ".py",
   "mimetype": "text/x-python",
   "name": "python",
   "nbconvert_exporter": "python",
   "pygments_lexer": "ipython3",
   "version": "3.5.5"
  }
 },
 "nbformat": 4,
 "nbformat_minor": 2
}
